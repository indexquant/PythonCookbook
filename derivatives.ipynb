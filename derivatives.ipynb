{
 "cells": [
  {
   "cell_type": "markdown",
   "source": [
    "<h2>Derivatives Analytics</h2>\n"
   ],
   "metadata": {
    "collapsed": false
   }
  },
  {
   "cell_type": "markdown",
   "source": [
    "<b>Options Value</b>\n",
    "\n",
    "inner value (intrinsic value or payoff)\n",
    "\n",
    "Black-Scholes-merton:\n",
    "\n",
    "$\\small C_0^* = C^{BSM}(S_0, K, T, r, \\sigma)$ <br>\n",
    "\n",
    "where\n",
    "\n",
    "$\\small r$ = the constant risk-less short rate<br>\n",
    "$\\small \\sigma$ = the volatility of the index (the stdev of the index level returns)"
   ],
   "metadata": {
    "collapsed": false
   }
  },
  {
   "cell_type": "code",
   "execution_count": null,
   "outputs": [],
   "source": [
    "#European Call Option Inner Value Plot\n",
    "\n",
    "import numpy as np\n",
    "import matplotlib as mpl\n",
    "import matplotlib.pyplot as plt\n",
    "mpl.rcParams['font.family'] = 'serif'\n",
    "\n",
    "#Import Valuation Function from util.py\n",
    "import sys\n",
    "sys.path.append('PythonCookbook21')\n",
    "from util import BSM_call_value\n",
    "\n",
    "#Model and Option Parameters\n",
    "K = 60000\n",
    "T = 1.0\n",
    "r = 0.025\n",
    "vol = 0.2\n",
    "\n",
    "#Sample Data Generation\n",
    "S = np.linspace(50000, 70000, 1000) #vector of index level values\n",
    "h = np.maximum(S - K, 0) #inner value of option\n",
    "C = [BSM_call_value(S0, K, 0, T, r, vol) for S0 in S] #calculate call option values\n",
    "\n",
    "#Graphical Output\n",
    "plt.figure()\n",
    "\n",
    "#plot inner value at maturity\n",
    "plt.plot(S, h, 'b-.', lw=2.5, label = 'inner value')\n",
    "\n",
    "#plot option present value\n",
    "plt.plot(S, C, 'r', lw=2.5, label='present value')\n",
    "\n",
    "plt.grid(True)\n",
    "plt.legend(loc=0)\n",
    "plt.xlabel('index level $S_0$')\n",
    "plt.ylabel('present value $C(t=0)')\n",
    "\n"
   ],
   "metadata": {
    "collapsed": false,
    "pycharm": {
     "name": "#%%\n"
    }
   }
  }
 ],
 "metadata": {
  "kernelspec": {
   "display_name": "Python 3",
   "language": "python",
   "name": "python3"
  },
  "language_info": {
   "codemirror_mode": {
    "name": "ipython",
    "version": 2
   },
   "file_extension": ".py",
   "mimetype": "text/x-python",
   "name": "python",
   "nbconvert_exporter": "python",
   "pygments_lexer": "ipython2",
   "version": "2.7.6"
  }
 },
 "nbformat": 4,
 "nbformat_minor": 0
}