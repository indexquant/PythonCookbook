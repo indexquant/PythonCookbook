{
 "cells": [
  {
   "cell_type": "raw",
   "source": [
    "Python Self Cookbook\n",
    "\n",
    "last update : 1 Nov 2021\n",
    "The curriculum and script ideas are mainly sourced from \"Python Cookbook by David Beazley & Brian K.Jones (O'Reilly)\n",
    "================================================================\n",
    "Table of Contents (# of sub-topics):\n",
    "\n",
    "1. Data Structures and Algorithms (20)\n",
    "2. Strings and Text (20)\n",
    "3. Numbers, Dates, and Times (16)\n",
    "4. Iterators and Generators (16)\n",
    "5. Files and I/O (21)\n",
    "6. Data Encoding and Processing (13)\n",
    "7. Functions (12)\n",
    "8. Classes and Objects (25)\n",
    "\n",
    "Some advanced topics may be included:\n",
    "Metaprogramming, Modules and Packages, Network and Web Programming, Concurrency, Utility Scripting and System Admin, Testing/Debugging/Exceptions, C Extension"
   ],
   "metadata": {
    "collapsed": false
   }
  },
  {
   "cell_type": "markdown",
   "source": [
    "1. Data Structures and Algorithms"
   ],
   "metadata": {
    "collapsed": false
   }
  },
  {
   "cell_type": "code",
   "execution_count": 5,
   "outputs": [
    {
     "name": "stdout",
     "output_type": "stream",
     "text": [
      "1000\n",
      "11\n",
      "y\n"
     ]
    }
   ],
   "source": [
    "######### Unpacking a Sequence into Separate Variables #########\n",
    "\n",
    "#Any sequence can be unpacked into variables using a simple assignment operation'\n",
    "raw_data = ['TSLA', 1000, (2021, 11,1)]\n",
    "instrument_name, price, (year, month, day) = raw_data\n",
    "print(price)\n",
    "print(month)\n",
    "\n",
    "#Unpacking works with any object not just tuples or lists.\n",
    "string = 'Python'\n",
    "a, b, c, d, e, f = string\n",
    "print(b)\n",
    "\n",
    "#if you want to discard certain values\n",
    "_, price, (year, month, day) = raw_data\n"
   ],
   "metadata": {
    "collapsed": false,
    "pycharm": {
     "name": "#%%\n"
    }
   }
  }
 ],
 "metadata": {
  "kernelspec": {
   "display_name": "Python 3",
   "language": "python",
   "name": "python3"
  },
  "language_info": {
   "codemirror_mode": {
    "name": "ipython",
    "version": 2
   },
   "file_extension": ".py",
   "mimetype": "text/x-python",
   "name": "python",
   "nbconvert_exporter": "python",
   "pygments_lexer": "ipython2",
   "version": "2.7.6"
  }
 },
 "nbformat": 4,
 "nbformat_minor": 0
}