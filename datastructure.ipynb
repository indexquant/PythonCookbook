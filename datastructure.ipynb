{
 "cells": [
  {
   "cell_type": "markdown",
   "source": [
    "<b>Python Self Cookbook</b>\n",
    "\n",
    "The curriculum and script ideas are mainly sourced from \"Python Cookbook by David Beazley & Brian K.Jones (O'Reilly)\n",
    "\n",
    "last update : 1 Nov 2021\n",
    "\n",
    "<u>Table of Contents (# of sub-topics):</u>\n",
    "\n",
    "1. Data Structures and Algorithms (20)\n",
    "2. Strings and Text (20)\n",
    "3. Numbers, Dates, and Times (16)\n",
    "4. Iterators and Generators (16)\n",
    "5. Files and I/O (21)\n",
    "6. Data Encoding and Processing (13)\n",
    "7. Functions (12)\n",
    "8. Classes and Objects (25)\n",
    "\n",
    "Some advanced topics may be included:<br><br>\n",
    "Metaprogramming, Modules and Packages, Network and Web Programming, Concurrency, Utility Scripting and System Admin, Testing/Debugging/Exceptions, C Extension"
   ],
   "metadata": {
    "collapsed": false,
    "pycharm": {
     "name": "#%% md\n"
    }
   }
  },
  {
   "cell_type": "markdown",
   "source": [
    "<b>1. Data Structures and Algorithms</b>"
   ],
   "metadata": {
    "collapsed": false
   }
  },
  {
   "cell_type": "code",
   "execution_count": 5,
   "outputs": [
    {
     "name": "stdout",
     "output_type": "stream",
     "text": [
      "1000\n",
      "11\n",
      "y\n"
     ]
    }
   ],
   "source": [
    "######### 1.1 Unpacking a Sequence into Separate Variables #########\n",
    "\n",
    "#Any sequence can be unpacked into variables using a simple assignment operation'\n",
    "raw_data = ['TSLA', 1000, (2021, 11,1)]\n",
    "instrument_name, price, (year, month, day) = raw_data\n",
    "print(price)\n",
    "print(month)\n",
    "\n",
    "#Unpacking works with any object not just tuples or lists.\n",
    "string = 'Python'\n",
    "a, b, c, d, e, f = string\n",
    "print(b)\n",
    "\n",
    "#if you want to discard certain values\n",
    "_, price, (year, month, day) = raw_data"
   ],
   "metadata": {
    "collapsed": false,
    "pycharm": {
     "name": "#%%\n"
    }
   }
  },
  {
   "cell_type": "code",
   "execution_count": 11,
   "outputs": [
    {
     "name": "stdout",
     "output_type": "stream",
     "text": [
      "0.0375 0.1\n",
      "uname: indexquant\n",
      "homedir: /desktop/empty\n",
      "sh: /usr/bin/false\n"
     ]
    }
   ],
   "source": [
    "######### 1.2 Unpacking Elements from Iterables of Arbitrary Length #########\n",
    "return_record = [0.01, 0.05, -0.03, 0.12, 0.1]\n",
    "\n",
    "*trailing_return, last_day_return = return_record\n",
    "trailing_avg = sum(trailing_return) / len(trailing_return)\n",
    "print(trailing_avg, last_day_return)\n",
    "\n",
    "#star unpacking can also be useful when combined with stirng processing operations (e.g. splitting)\n",
    "msg_string = 'indexquant:-2:-2:Unpriviledged User:/desktop/empty:/usr/bin/false'\n",
    "uname, *fields, homedir, sh = msg_string.split(':')\n",
    "print('uname:', uname)\n",
    "print('homedir:', homedir)\n",
    "print('sh:', sh)"
   ],
   "metadata": {
    "collapsed": false,
    "pycharm": {
     "name": "#%%\n"
    }
   }
  },
  {
   "cell_type": "code",
   "execution_count": null,
   "outputs": [],
   "source": [
    "######### 1.3 Keeping the Last N items #########"
   ],
   "metadata": {
    "collapsed": false,
    "pycharm": {
     "name": "#%%\n"
    }
   }
  },
  {
   "cell_type": "code",
   "execution_count": null,
   "outputs": [],
   "source": [
    "######### 1.4 Finding the Largest or Smallest N items #########"
   ],
   "metadata": {
    "collapsed": false,
    "pycharm": {
     "name": "#%%\n"
    }
   }
  },
  {
   "cell_type": "markdown",
   "source": [
    "<b>4. Implementing the Iterator Protocol</b>"
   ],
   "metadata": {
    "collapsed": false
   }
  },
  {
   "cell_type": "code",
   "execution_count": 30,
   "outputs": [
    {
     "name": "stdout",
     "output_type": "stream",
     "text": [
      "0\n",
      "0.5\n",
      "1.0\n",
      "1.5\n",
      "2.0\n",
      "2.5\n",
      "3.0\n",
      "3.5\n"
     ]
    },
    {
     "data": {
      "text/plain": "[0, 0.5, 1.0, 1.5, 2.0, 2.5, 3.0, 3.5]"
     },
     "execution_count": 30,
     "metadata": {},
     "output_type": "execute_result"
    }
   ],
   "source": [
    "######### 4.3 Creating New Iteration Patterns with Generators #########\n",
    "\n",
    "def frange(start, stop, increment):\n",
    "    x = start\n",
    "    while x < stop:\n",
    "        yield x\n",
    "        x += increment\n",
    "\n",
    "for n in frange(0, 4, 0.5):\n",
    "    print(n)\n",
    "\n",
    "#you can also use it with some other function that consumes an iterable (e.g. sum(), list())\n",
    "list(frange(0, 4, 0.5))"
   ],
   "metadata": {
    "collapsed": false,
    "pycharm": {
     "name": "#%%\n"
    }
   }
  },
  {
   "cell_type": "code",
   "execution_count": 32,
   "outputs": [
    {
     "name": "stdout",
     "output_type": "stream",
     "text": [
      "3\n",
      "2\n",
      "1\n"
     ]
    }
   ],
   "source": [
    "#Below will not work properly, as a gnerator function only runs in response to \"next\" operations carried out in iteration.\n",
    "\n",
    "def countdown(n):\n",
    "    print('Starting to count from', n)\n",
    "    while n>0:\n",
    "        yield n\n",
    "        n-= 1\n",
    "    print('Done.')\n",
    "\n",
    "#You may try below instead\n",
    "def countdown2(start, stop, decrement):\n",
    "    x = start\n",
    "    while x > stop:\n",
    "        yield x\n",
    "        x -= decrement\n",
    "\n",
    "for n in countdown2(3,0,1):\n",
    "    print(n)\n"
   ],
   "metadata": {
    "collapsed": false,
    "pycharm": {
     "name": "#%%\n"
    }
   }
  }
 ],
 "metadata": {
  "kernelspec": {
   "display_name": "Python 3",
   "language": "python",
   "name": "python3"
  },
  "language_info": {
   "codemirror_mode": {
    "name": "ipython",
    "version": 2
   },
   "file_extension": ".py",
   "mimetype": "text/x-python",
   "name": "python",
   "nbconvert_exporter": "python",
   "pygments_lexer": "ipython2",
   "version": "2.7.6"
  }
 },
 "nbformat": 4,
 "nbformat_minor": 0
}