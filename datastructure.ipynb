{
 "cells": [
  {
   "cell_type": "markdown",
   "source": [
    "<b>Python Self Cookbook</b>\n",
    "\n",
    "The curriculum and script ideas are mainly sourced from \"Python Cookbook by David Beazley & Brian K.Jones (O'Reilly)\n",
    "\n",
    "last update : 3 Nov 2021\n",
    "\n",
    "<u>Table of Contents (# of sub-topics):</u>\n",
    "\n",
    "1. Data Structures and Algorithms (20)\n",
    "2. Strings and Text (20)\n",
    "3. Numbers, Dates, and Times (16)\n",
    "4. Iterators and Generators (16)\n",
    "5. Files and I/O (21)\n",
    "6. Data Encoding and Processing (13)\n",
    "7. Functions (12)\n",
    "8. Classes and Objects (25)\n",
    "\n",
    "Some advanced topics may be included:<br><br>\n",
    "Metaprogramming, Modules and Packages, Network and Web Programming, Concurrency, Utility Scripting and System Admin, Testing/Debugging/Exceptions, C Extension"
   ],
   "metadata": {
    "collapsed": false,
    "pycharm": {
     "name": "#%% md\n"
    }
   }
  },
  {
   "cell_type": "markdown",
   "source": [
    "<b>1. Data Structures and Algorithms</b>"
   ],
   "metadata": {
    "collapsed": false
   }
  },
  {
   "cell_type": "code",
   "execution_count": 5,
   "outputs": [
    {
     "name": "stdout",
     "output_type": "stream",
     "text": [
      "1000\n",
      "11\n",
      "y\n"
     ]
    }
   ],
   "source": [
    "######### 1.1 Unpacking a Sequence into Separate Variables #########\n",
    "\n",
    "#Any sequence can be unpacked into variables using a simple assignment operation'\n",
    "raw_data = ['TSLA', 1000, (2021, 11,1)]\n",
    "instrument_name, price, (year, month, day) = raw_data\n",
    "print(price)\n",
    "print(month)\n",
    "\n",
    "#Unpacking works with any object not just tuples or lists.\n",
    "string = 'Python'\n",
    "a, b, c, d, e, f = string\n",
    "print(b)\n",
    "\n",
    "#if you want to discard certain values\n",
    "_, price, (year, month, day) = raw_data"
   ],
   "metadata": {
    "collapsed": false,
    "pycharm": {
     "name": "#%%\n"
    }
   }
  },
  {
   "cell_type": "code",
   "execution_count": 11,
   "outputs": [
    {
     "name": "stdout",
     "output_type": "stream",
     "text": [
      "0.0375 0.1\n",
      "uname: indexquant\n",
      "homedir: /desktop/empty\n",
      "sh: /usr/bin/false\n"
     ]
    }
   ],
   "source": [
    "######### 1.2 Unpacking Elements from Iterables of Arbitrary Length #########\n",
    "return_record = [0.01, 0.05, -0.03, 0.12, 0.1]\n",
    "\n",
    "*trailing_return, last_day_return = return_record\n",
    "trailing_avg = sum(trailing_return) / len(trailing_return)\n",
    "print(trailing_avg, last_day_return)\n",
    "\n",
    "#star unpacking can also be useful when combined with stirng processing operations (e.g. splitting)\n",
    "msg_string = 'indexquant:-2:-2:Unpriviledged User:/desktop/empty:/usr/bin/false'\n",
    "uname, *fields, homedir, sh = msg_string.split(':')\n",
    "print('uname:', uname)\n",
    "print('homedir:', homedir)\n",
    "print('sh:', sh)"
   ],
   "metadata": {
    "collapsed": false,
    "pycharm": {
     "name": "#%%\n"
    }
   }
  },
  {
   "cell_type": "code",
   "execution_count": null,
   "outputs": [],
   "source": [
    "######### 1.3 Keeping the Last N items #########"
   ],
   "metadata": {
    "collapsed": false,
    "pycharm": {
     "name": "#%%\n"
    }
   }
  },
  {
   "cell_type": "code",
   "execution_count": 34,
   "outputs": [
    {
     "name": "stdout",
     "output_type": "stream",
     "text": [
      "[{'instrument': 'TSLA', 'shares': 200, 'price': 1100}, {'instrument': 'AAPL', 'shares': 100, 'price': 1000}]\n",
      "[{'instrument': 'YHOO', 'shares': 10, 'price': 200}, {'instrument': 'FB', 'shares': 50, 'price': 500}]\n"
     ]
    }
   ],
   "source": [
    "######### 1.4 Finding the Largest or Smallest N items #########\n",
    "# To make a list of the largest or smallest N items in a collection\n",
    "import heapq #this module has two functions - nlargest(), nsmallest()\n",
    "\n",
    "portfolio =[\n",
    "    {'instrument': 'AAPL', 'shares': 100, 'price': 1000},\n",
    "    {'instrument': 'TSLA', 'shares': 200, 'price': 1100},\n",
    "    {'instrument': 'FB', 'shares': 50, 'price': 500},\n",
    "     {'instrument': 'YHOO', 'shares': 10, 'price': 200},\n",
    "]\n",
    "\n",
    "print(heapq.nlargest(2, portfolio, key=lambda s: s['price']))\n",
    "print(heapq.nsmallest(2, portfolio, key=lambda s: s['price']))"
   ],
   "metadata": {
    "collapsed": false,
    "pycharm": {
     "name": "#%%\n"
    }
   }
  },
  {
   "cell_type": "code",
   "execution_count": 35,
   "outputs": [],
   "source": [
    "######### 1.5 Implementing a Priority Queue #########\n",
    "#sorts items by a given priority and\n",
    "#always returns the item with the highest priority on each pop operation\n",
    "\n",
    "import heapq\n",
    "\n",
    "class priorityqueue:\n",
    "    def __init__(selfself):\n",
    "        self._queue = []\n",
    "        self._index = 0\n",
    "\n",
    "    def push(self, item, priority):\n",
    "        heapq.heappush(self._queue, (-priority, self._index, item))\n",
    "        self._indexs += 1\n",
    "\n",
    "    def pop(selfself):\n",
    "        return heapq.heappop(self._queue)[-1]\n",
    "\n",
    "#Example"
   ],
   "metadata": {
    "collapsed": false,
    "pycharm": {
     "name": "#%%\n"
    }
   }
  },
  {
   "cell_type": "code",
   "execution_count": 39,
   "outputs": [
    {
     "name": "stdout",
     "output_type": "stream",
     "text": [
      "defaultdict(<class 'list'>, {'a': [1, 2, 4]})\n",
      "defaultdict(<class 'list'>, {'a': [1, 2, 4]})\n"
     ]
    },
    {
     "ename": "NameError",
     "evalue": "name 'pairs' is not defined",
     "output_type": "error",
     "traceback": [
      "\u001B[0;31m---------------------------------------------------------------------------\u001B[0m",
      "\u001B[0;31mNameError\u001B[0m                                 Traceback (most recent call last)",
      "\u001B[0;32m<ipython-input-39-18026cc8fbc2>\u001B[0m in \u001B[0;36m<module>\u001B[0;34m\u001B[0m\n\u001B[1;32m     21\u001B[0m \u001B[0;34m\u001B[0m\u001B[0m\n\u001B[1;32m     22\u001B[0m \u001B[0md\u001B[0m \u001B[0;34m=\u001B[0m \u001B[0mdefaultdict\u001B[0m\u001B[0;34m(\u001B[0m\u001B[0mlist\u001B[0m\u001B[0;34m)\u001B[0m\u001B[0;34m\u001B[0m\u001B[0;34m\u001B[0m\u001B[0m\n\u001B[0;32m---> 23\u001B[0;31m \u001B[0;32mfor\u001B[0m \u001B[0mkey\u001B[0m\u001B[0;34m,\u001B[0m \u001B[0mvalue\u001B[0m \u001B[0;32min\u001B[0m \u001B[0mpairs\u001B[0m\u001B[0;34m:\u001B[0m\u001B[0;34m\u001B[0m\u001B[0;34m\u001B[0m\u001B[0m\n\u001B[0m\u001B[1;32m     24\u001B[0m     \u001B[0md\u001B[0m\u001B[0;34m[\u001B[0m\u001B[0mkey\u001B[0m\u001B[0;34m]\u001B[0m\u001B[0;34m.\u001B[0m\u001B[0mappend\u001B[0m\u001B[0;34m(\u001B[0m\u001B[0mvalue\u001B[0m\u001B[0;34m)\u001B[0m\u001B[0;34m\u001B[0m\u001B[0;34m\u001B[0m\u001B[0m\n\u001B[1;32m     25\u001B[0m \u001B[0;34m\u001B[0m\u001B[0m\n",
      "\u001B[0;31mNameError\u001B[0m: name 'pairs' is not defined"
     ]
    }
   ],
   "source": [
    "######### 1.6 Mapping Keys to Multiple Values in a Dictionary #########\n",
    "\n",
    "#defaultdict automatically initializes the first value so we can simply focus on adding items.\n",
    "from collections import defaultdict\n",
    "\n",
    "d_list = defaultdict(list)\n",
    "d_list['a'].append(1)\n",
    "d_list['a'].append(2)\n",
    "d_list['a'].append(4)\n",
    "\n",
    "print(d_list)\n",
    "\n",
    "d_set = defaultdict(list)\n",
    "d_set['a'].append(1)\n",
    "d_set['a'].append(2)\n",
    "d_set['a'].append(4)\n",
    "\n",
    "print(d_set)\n",
    "\n",
    "\n",
    "# a clean code format to initialize the first value\n",
    "\n",
    "d = defaultdict(list)\n",
    "for key, value in pairs:\n",
    "    d[key].append(value)"
   ],
   "metadata": {
    "collapsed": false,
    "pycharm": {
     "name": "#%%\n"
    }
   }
  },
  {
   "cell_type": "code",
   "execution_count": 43,
   "outputs": [
    {
     "name": "stdout",
     "output_type": "stream",
     "text": [
      "foo 1\n",
      "bar 2\n",
      "spam 3\n",
      "grok 4\n"
     ]
    },
    {
     "data": {
      "text/plain": "'{\"foo\": 1, \"bar\": 2, \"spam\": 3, \"grok\": 4}'"
     },
     "execution_count": 43,
     "metadata": {},
     "output_type": "execute_result"
    }
   ],
   "source": [
    "######### 1.7 Keeping Dictionaries in Order #########\n",
    "\n",
    "#it preserves the original insertion order of data when iterating\n",
    "#the size of an OrderedDict is more than twice as large as a normal dictionary due to the extra linked list that's created\n",
    "\n",
    "from collections import OrderedDict\n",
    "\n",
    "d_order = OrderedDict()\n",
    "d_order['foo'] = 1\n",
    "d_order['bar'] = 2\n",
    "d_order['spam'] = 3\n",
    "d_order['grok'] = 4\n",
    "\n",
    "for key in d_order:\n",
    "    print(key, d_order[key])\n",
    "\n",
    "#This can be particularly useful when later serialize or encode into a different format\n",
    "import json\n",
    "json.dumps(d_order)\n"
   ],
   "metadata": {
    "collapsed": false,
    "pycharm": {
     "name": "#%%\n"
    }
   }
  },
  {
   "cell_type": "code",
   "execution_count": 72,
   "outputs": [
    {
     "name": "stdout",
     "output_type": "stream",
     "text": [
      "min price & ticker: (100, 'FB')\n",
      "max price & ticker: (600, 'AAPL')\n",
      "sort by the price: [(100, 'FB'), (600, 'AAPL')]\n",
      "(100, 'FB')\n",
      "##using lambda##\n",
      "stock with the lowest price: FB\n",
      "and the value?: 100\n"
     ]
    }
   ],
   "source": [
    "######### 1.8 Calculating with Dictionaries #########\n",
    "#invert the keys and values using zip()\n",
    "prices = {\n",
    "    'AAPL':600,\n",
    "    'FB':100\n",
    "}\n",
    "\n",
    "min_price = min(zip(prices.values(), prices.keys()))\n",
    "print('min price & ticker:', min_price)\n",
    "\n",
    "max_price = max(zip(prices.values(), prices.keys()))\n",
    "print('max price & ticker:', max_price)\n",
    "\n",
    "prices_sorted = sorted(zip(prices.values(), prices.keys()))\n",
    "print('sort by the price:', prices_sorted)\n",
    "\n",
    "#!!note that zip() creates an iterator that can only be consumed once.\n",
    "price_and_ticker = zip(prices.values(), prices.keys())\n",
    "print(min(price_and_ticker))\n",
    "#print(max(price_and_ticker)) - this will return ValueError\n",
    "\n",
    "#You can use lambda supplying a key function\n",
    "# to get the key corresponding to the value you want to get\n",
    "print('##using lambda##')\n",
    "print('stock with the lowest price:', min(prices, key=lambda k: prices[k]))\n",
    "#needs an extra lookup step to get the min value\n",
    "print('and the value?:', prices[min(prices, key=lambda k: prices[k])])#prices[min(prices, key=lambda k: prices[k])]\n",
    "\n",
    "#max(prices, key=lambda k: prices[k])"
   ],
   "metadata": {
    "collapsed": false,
    "pycharm": {
     "name": "#%%\n"
    }
   }
  },
  {
   "cell_type": "code",
   "execution_count": 76,
   "outputs": [
    {
     "name": "stdout",
     "output_type": "stream",
     "text": [
      "keys in common: {'x', 'y'}\n",
      "keys in a that are not in b: {'z'}\n",
      "item (pair) in common: {('y', 2)}\n"
     ]
    },
    {
     "data": {
      "text/plain": "{'z': 3}"
     },
     "execution_count": 76,
     "metadata": {},
     "output_type": "execute_result"
    }
   ],
   "source": [
    "######### 1.9 Finding Commonalities in Two Dictionaries #########\n",
    "\n",
    "a = {\n",
    "    'x':1,\n",
    "    'y':2,\n",
    "    'z':3\n",
    "}\n",
    "\n",
    "b = {\n",
    "    'w':10,\n",
    "    'x':11,\n",
    "    'y':2\n",
    "}\n",
    "\n",
    "#find keys in common\n",
    "print('keys in common:', a.keys() & b.keys())\n",
    "\n",
    "#Find keys in a that are not in b\n",
    "print('keys in a that are not in b:', a.keys() - b.keys())\n",
    "\n",
    "#Find (key,value) pairs in common\n",
    "print('item (pair) in common:', a.items() & b.items())\n",
    "\n",
    "#Make a new dictionary with selected keys removed (filter)\n",
    "c = {key: a[key] for key in a.keys() - b.keys()}\n",
    "c"
   ],
   "metadata": {
    "collapsed": false,
    "pycharm": {
     "name": "#%%\n"
    }
   }
  },
  {
   "cell_type": "code",
   "execution_count": 77,
   "outputs": [
    {
     "data": {
      "text/plain": "[1, 5, 2, 9, 10]"
     },
     "execution_count": 77,
     "metadata": {},
     "output_type": "execute_result"
    }
   ],
   "source": [
    "######### 1.10 Removing Duplicates from a Sequence while maintaining Order #########\n",
    "\n",
    "#!!Note that this only works if the items are hashable.\n",
    "def removedup(items):\n",
    "    seen = set()\n",
    "    for x in items:\n",
    "        if x not in seen:\n",
    "            yield x\n",
    "            seen.add(x)\n",
    "\n",
    "raw = [1,5,2,1,9,1,5,10]\n",
    "list(removedup(raw))\n",
    "\n",
    "#For unhashable types (e.g. dicts)\n",
    "def removedup_dict(items, key=None):\n",
    "    seen = set()\n",
    "    for x in items:\n",
    "        val = x if key is None else key(x)\n",
    "        if val not in seen:\n",
    "            yield x\n",
    "            seen.add(val)\n",
    "\n",
    "#Example"
   ],
   "metadata": {
    "collapsed": false,
    "pycharm": {
     "name": "#%%\n"
    }
   }
  },
  {
   "cell_type": "code",
   "execution_count": 93,
   "outputs": [
    {
     "name": "stdout",
     "output_type": "stream",
     "text": [
      "slice(2, 4, None)\n",
      "start: 0\n",
      "stop: 5\n",
      "step: 2\n",
      "(0, 5, 2)\n",
      "a\n",
      "c\n",
      "e\n"
     ]
    }
   ],
   "source": [
    "######### 1.11 Naming a Slice #########\n",
    "\n",
    "test_item = [0,1,2,3,4,5,6]\n",
    "slice_a = slice(2,4)\n",
    "print(slice_a)\n",
    "test_item[slice_a]\n",
    "\n",
    "#Using attributes (.start, .stop, .step) to get more information\n",
    "slice_deep = slice(0,5,2)\n",
    "print('start:', slice_deep.start)\n",
    "print('stop:', slice_deep.stop)\n",
    "print('step:', slice_deep.step)\n",
    "\n",
    "#Alternatively, you can use indices(size) method.\n",
    "string = 'abcdefIndexQuant'\n",
    "print(slice_deep.indices(len(string)))\n",
    "\n",
    "for i in range(*slice_deep.indices(len(string))):\n",
    "    print(string[i])"
   ],
   "metadata": {
    "collapsed": false,
    "pycharm": {
     "name": "#%%\n"
    }
   }
  },
  {
   "cell_type": "markdown",
   "source": [
    "<b>4. Implementing the Iterator Protocol</b>"
   ],
   "metadata": {
    "collapsed": false
   }
  },
  {
   "cell_type": "code",
   "execution_count": 30,
   "outputs": [
    {
     "name": "stdout",
     "output_type": "stream",
     "text": [
      "0\n",
      "0.5\n",
      "1.0\n",
      "1.5\n",
      "2.0\n",
      "2.5\n",
      "3.0\n",
      "3.5\n"
     ]
    },
    {
     "data": {
      "text/plain": "[0, 0.5, 1.0, 1.5, 2.0, 2.5, 3.0, 3.5]"
     },
     "execution_count": 30,
     "metadata": {},
     "output_type": "execute_result"
    }
   ],
   "source": [
    "######### 4.3 Creating New Iteration Patterns with Generators #########\n",
    "\n",
    "def frange(start, stop, increment):\n",
    "    x = start\n",
    "    while x < stop:\n",
    "        yield x\n",
    "        x += increment\n",
    "\n",
    "for n in frange(0, 4, 0.5):\n",
    "    print(n)\n",
    "\n",
    "#you can also use it with some other function that consumes an iterable (e.g. sum(), list())\n",
    "list(frange(0, 4, 0.5))"
   ],
   "metadata": {
    "collapsed": false,
    "pycharm": {
     "name": "#%%\n"
    }
   }
  },
  {
   "cell_type": "code",
   "execution_count": 32,
   "outputs": [
    {
     "name": "stdout",
     "output_type": "stream",
     "text": [
      "3\n",
      "2\n",
      "1\n"
     ]
    }
   ],
   "source": [
    "#Below will not work properly, as a gnerator function only runs in response to \"next\" operations carried out in iteration.\n",
    "\n",
    "def countdown(n):\n",
    "    print('Starting to count from', n)\n",
    "    while n>0:\n",
    "        yield n\n",
    "        n-= 1\n",
    "    print('Done.')\n",
    "\n",
    "#You may try below instead\n",
    "def countdown2(start, stop, decrement):\n",
    "    x = start\n",
    "    while x > stop:\n",
    "        yield x\n",
    "        x -= decrement\n",
    "\n",
    "for n in countdown2(3,0,1):\n",
    "    print(n)\n"
   ],
   "metadata": {
    "collapsed": false,
    "pycharm": {
     "name": "#%%\n"
    }
   }
  }
 ],
 "metadata": {
  "kernelspec": {
   "display_name": "Python 3",
   "language": "python",
   "name": "python3"
  },
  "language_info": {
   "codemirror_mode": {
    "name": "ipython",
    "version": 2
   },
   "file_extension": ".py",
   "mimetype": "text/x-python",
   "name": "python",
   "nbconvert_exporter": "python",
   "pygments_lexer": "ipython2",
   "version": "2.7.6"
  }
 },
 "nbformat": 4,
 "nbformat_minor": 0
}